{
 "cells": [
  {
   "cell_type": "code",
   "execution_count": null,
   "metadata": {},
   "outputs": [],
   "source": [
    "import pandas as pd\n",
    "import json\n",
    "import datetime\n",
    "import matplotlib.pyplot as plt"
   ]
  },
  {
   "cell_type": "code",
   "execution_count": null,
   "metadata": {},
   "outputs": [],
   "source": [
    "nh0903_forecasts_json = json.loads(open(\"../data/iCarus/Provincie_Noord-Holland_0903.json\", \"r\").read())\n",
    "nh0903_forecasts = {}"
   ]
  },
  {
   "cell_type": "code",
   "execution_count": null,
   "metadata": {},
   "outputs": [],
   "source": [
    "for asset in nh0903_forecasts_json:\n",
    "    df = pd.DataFrame(asset[\"forecasts\"])\n",
    "    df[\"datetimeFC\"] = pd.to_datetime(df[\"datetimeFC\"])\n",
    "    df.set_index(df.datetimeFC, inplace=True)\n",
    "    nh0903_forecasts[asset[\"prediction_description\"]] = df"
   ]
  },
  {
   "cell_type": "code",
   "execution_count": null,
   "metadata": {},
   "outputs": [],
   "source": [
    "asset_name = [asset_key.strip() for asset_key in nh0903_forecasts.keys() if asset_key.startswith(\"Solar\")][8]\n",
    "print(\"Asset: %s \" % asset_name)\n",
    "oneasset = nh0903_forecasts[asset_name]"
   ]
  },
  {
   "cell_type": "code",
   "execution_count": null,
   "metadata": {},
   "outputs": [],
   "source": [
    "oneasset8h = oneasset.loc[(oneasset.datetimeFC >= datetime.datetime(2018, 3, 9, 9, 0, 0))\n",
    "                          & (oneasset.datetimeFC <= datetime.datetime(2018, 3, 9, 16, 0, 0))]\n",
    "#oneasset8h.index\n",
    "#oneasset8h.columns  # why is forecastFC still in columns?"
   ]
  },
  {
   "cell_type": "code",
   "execution_count": null,
   "metadata": {},
   "outputs": [],
   "source": [
    "plt.plot(oneasset8h.forecast)\n",
    "plt.show()"
   ]
  },
  {
   "cell_type": "code",
   "execution_count": null,
   "metadata": {},
   "outputs": [],
   "source": [
    "oneasset8hperH = oneasset8h.resample('H').mean()"
   ]
  },
  {
   "cell_type": "code",
   "execution_count": null,
   "metadata": {},
   "outputs": [],
   "source": [
    "plt.plot(oneasset8hperH.forecast)\n",
    "plt.show()"
   ]
  },
  {
   "cell_type": "code",
   "execution_count": null,
   "metadata": {},
   "outputs": [],
   "source": [
    "oneasset8hperH.index.size"
   ]
  },
  {
   "cell_type": "code",
   "execution_count": null,
   "metadata": {},
   "outputs": [],
   "source": [
    "oneasset8hperH.forecast = oneasset8hperH.forecast / 1000  # kwh\n",
    "oneasset8hperH.forecast = oneasset8hperH.forecast / 100   # 8 bins\n",
    "oneasset8hperH = oneasset8hperH.round()"
   ]
  },
  {
   "cell_type": "code",
   "execution_count": null,
   "metadata": {},
   "outputs": [],
   "source": [
    "plt.plot(oneasset8hperH.forecast)\n",
    "plt.show()"
   ]
  },
  {
   "cell_type": "code",
   "execution_count": null,
   "metadata": {},
   "outputs": [],
   "source": [
    "oneasset8hperH.forecast.sum()"
   ]
  },
  {
   "cell_type": "code",
   "execution_count": null,
   "metadata": {},
   "outputs": [],
   "source": [
    "oneasset8hperH.to_pickle(\"../march9-9to16-8by8.pickle\")"
   ]
  },
  {
   "cell_type": "code",
   "execution_count": null,
   "metadata": {},
   "outputs": [],
   "source": [
    "s = pd.Series?"
   ]
  },
  {
   "cell_type": "code",
   "execution_count": null,
   "metadata": {},
   "outputs": [],
   "source": [
    "s = pd.Series"
   ]
  },
  {
   "cell_type": "code",
   "execution_count": null,
   "metadata": {},
   "outputs": [],
   "source": []
  }
 ],
 "metadata": {
  "kernelspec": {
   "display_name": "Python 3",
   "language": "python",
   "name": "python3"
  },
  "language_info": {
   "codemirror_mode": {
    "name": "ipython",
    "version": 3
   },
   "file_extension": ".py",
   "mimetype": "text/x-python",
   "name": "python",
   "nbconvert_exporter": "python",
   "pygments_lexer": "ipython3",
   "version": "3.6.3"
  }
 },
 "nbformat": 4,
 "nbformat_minor": 2
}
